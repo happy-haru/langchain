{
 "cells": [
  {
   "cell_type": "code",
   "execution_count": 5,
   "id": "1ddf3769",
   "metadata": {},
   "outputs": [],
   "source": [
    "import os\n",
    "from glob import glob"
   ]
  },
  {
   "cell_type": "code",
   "execution_count": 8,
   "id": "d4580461",
   "metadata": {},
   "outputs": [
    {
     "name": "stdout",
     "output_type": "stream",
     "text": [
      "['./data\\\\Rivian_KR.txt', './data\\\\Tesla_KR.txt']\n"
     ]
    }
   ],
   "source": [
    "# 텍스트 파일 목록 가져오기\n",
    "txt_files = glob(os.path.join('./data', '*KR.txt'))\n",
    "print(txt_files)"
   ]
  },
  {
   "cell_type": "code",
   "execution_count": 30,
   "id": "8cc2faec",
   "metadata": {},
   "outputs": [
    {
     "data": {
      "text/plain": [
       "1"
      ]
     },
     "execution_count": 30,
     "metadata": {},
     "output_type": "execute_result"
    }
   ],
   "source": [
    "# 첫 번째 텍스트 파일 내용 확인\n",
    "from langchain_community.document_loaders import TextLoader, DirectoryLoader\n",
    "\n",
    "loader = TextLoader(txt_files[0], encoding='utf-8')\n",
    "data = loader.load()\n",
    "len(data)"
   ]
  },
  {
   "cell_type": "code",
   "execution_count": 31,
   "id": "d1aae0c1",
   "metadata": {},
   "outputs": [
    {
     "data": {
      "text/plain": [
       "list"
      ]
     },
     "execution_count": 31,
     "metadata": {},
     "output_type": "execute_result"
    }
   ],
   "source": [
    "# data type 확인\n",
    "type(data)"
   ]
  },
  {
   "cell_type": "code",
   "execution_count": 32,
   "id": "335a705b",
   "metadata": {},
   "outputs": [
    {
     "name": "stdout",
     "output_type": "stream",
     "text": [
      "{'source': './data\\\\Rivian_KR.txt'}\n",
      "--------------------------------------------------------------------------------------------------------------------------------------------------------------------------------------------------------\n",
      "2009년 MIT 박사 과정생 RJ 스캐린지가 설립한 리비안(Rivian)은 혁신적인 미국 전기차 제조업체입니다. 2011년부터 자율주행 전기차에 집중했던 리비안은 2015년 상당한 투자를 통해 비약적인 성장을 거듭하며 미시간과 베이 지역에 연구 시설을 설립했습니다. 주요 공급업체와의 거리를 좁히기 위해 본사를 미시간주 리보니아로 이전했습니다.\n",
      "\n",
      "리비안의 초기 프로젝트는 피터 스티븐스가 디자인한 2+2 시트 배열의 미드십 엔진 하이브리드 쿠페 스포츠카 R1(원래 이름은 아베라(Avera))이었습니다. 이 차량은 모듈식 캡슐 구조와 쉽게 교체 가능한 차체 패널을 특징으로 하며, 2013년 말에서 2014년 초 사이에 생산을 시작할 것으로 예상되었습니다. 리비안은 디젤 하이브리드, 브라질 원메이크 시리즈를 위한 R1 GT라는 이름의 레이싱 버전, 4도어 세단, 크로스오버 등 다양한 버전을 검토했습니다. 2011년에 프로토타입 해치백이 공개되었지만, R1과의 연관성은 아직 불분명합니다.\n",
      "\n",
      "2021년 10월, 리비안은 첫 양산 차량인 R1T 트럭을 고객에게 인도하기 시작했습니다.\n"
     ]
    }
   ],
   "source": [
    "# metadata를 출력\n",
    "print(data[0].metadata)\n",
    "print(\"-\"*200)\n",
    "# page_content를 출력\n",
    "print(data[0].page_content)"
   ]
  },
  {
   "cell_type": "code",
   "execution_count": null,
   "id": "be52443d",
   "metadata": {},
   "outputs": [
    {
     "name": "stderr",
     "output_type": "stream",
     "text": [
      "100%|██████████| 2/2 [00:00<?, ?it/s]\n",
      "100%|██████████| 2/2 [00:00<00:00, 1534.97it/s]\n"
     ]
    }
   ],
   "source": [
    "# Load all files from a directory\n",
    "from tqdm import tqdm\n",
    "#  텍스트 파일 목록 가져온후, 로더 클래스 적용용\n",
    "data = []\n",
    "for text_file in tqdm(txt_files):\n",
    "    loader = TextLoader(text_file, encoding='utf-8')\n",
    "    data += loader.load()\n",
    "\n",
    "\n",
    "\n",
    "# DirectoryLoader 설정\n",
    "# 특정 디렉토리에서 파일 로드\n",
    "directory_path = \"./data\"  \n",
    "loader = DirectoryLoader(\n",
    "    path=directory_path,  # 대상 디렉토리\n",
    "    glob=\"*KR.txt\",         # 이 패턴과 일치하는 파일만 로드 \n",
    "    loader_cls=TextLoader, # 각 파일을 로드할 때 사용할 로더 클래스\n",
    "    loader_kwargs={'encoding': 'utf-8'}, # TextLoader에 전달할 인자\n",
    "    show_progress=True,   # 진행 상황 표시 (tqdm과 유사)\n",
    "    use_multithreading=True # 멀티스레딩 사용 (파일이 많을 경우 로드 속도 향상)\n",
    ")\n",
    "directory_data = loader.load()"
   ]
  }
 ],
 "metadata": {
  "kernelspec": {
   "display_name": "lang_chain_1",
   "language": "python",
   "name": "python3"
  },
  "language_info": {
   "codemirror_mode": {
    "name": "ipython",
    "version": 3
   },
   "file_extension": ".py",
   "mimetype": "text/x-python",
   "name": "python",
   "nbconvert_exporter": "python",
   "pygments_lexer": "ipython3",
   "version": "3.11.9"
  }
 },
 "nbformat": 4,
 "nbformat_minor": 5
}
