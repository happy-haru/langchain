{
 "cells": [
  {
   "cell_type": "code",
   "execution_count": null,
   "id": "2f028c4e",
   "metadata": {},
   "outputs": [],
   "source": [
    "print(\"_____________________\")"
   ]
  },
  {
   "cell_type": "code",
   "execution_count": 1,
   "id": "1ddf3769",
   "metadata": {},
   "outputs": [],
   "source": [
    "import os\n",
    "from glob import glob"
   ]
  },
  {
   "cell_type": "code",
   "execution_count": 2,
   "id": "d4580461",
   "metadata": {},
   "outputs": [
    {
     "name": "stdout",
     "output_type": "stream",
     "text": [
      "[]\n"
     ]
    }
   ],
   "source": [
    "# 텍스트 파일 목록 가져오기\n",
    "txt_files = glob(os.path.join('./data', '*KR.txt'))\n",
    "print(txt_files)"
   ]
  },
  {
   "cell_type": "code",
   "execution_count": 3,
   "id": "8cc2faec",
   "metadata": {},
   "outputs": [
    {
     "ename": "IndexError",
     "evalue": "list index out of range",
     "output_type": "error",
     "traceback": [
      "\u001b[31m---------------------------------------------------------------------------\u001b[39m",
      "\u001b[31mIndexError\u001b[39m                                Traceback (most recent call last)",
      "\u001b[36mCell\u001b[39m\u001b[36m \u001b[39m\u001b[32mIn[3]\u001b[39m\u001b[32m, line 4\u001b[39m\n\u001b[32m      1\u001b[39m \u001b[38;5;66;03m# 첫 번째 텍스트 파일 내용 확인\u001b[39;00m\n\u001b[32m      2\u001b[39m \u001b[38;5;28;01mfrom\u001b[39;00m\u001b[38;5;250m \u001b[39m\u001b[34;01mlangchain_community\u001b[39;00m\u001b[34;01m.\u001b[39;00m\u001b[34;01mdocument_loaders\u001b[39;00m\u001b[38;5;250m \u001b[39m\u001b[38;5;28;01mimport\u001b[39;00m TextLoader, DirectoryLoader\n\u001b[32m----> \u001b[39m\u001b[32m4\u001b[39m loader = TextLoader(\u001b[43mtxt_files\u001b[49m\u001b[43m[\u001b[49m\u001b[32;43m0\u001b[39;49m\u001b[43m]\u001b[49m, encoding=\u001b[33m'\u001b[39m\u001b[33mutf-8\u001b[39m\u001b[33m'\u001b[39m)\n\u001b[32m      5\u001b[39m data = loader.load()\n\u001b[32m      6\u001b[39m \u001b[38;5;28mlen\u001b[39m(data)\n",
      "\u001b[31mIndexError\u001b[39m: list index out of range"
     ]
    }
   ],
   "source": [
    "# 첫 번째 텍스트 파일 내용 확인\n",
    "from langchain_community.document_loaders import TextLoader, DirectoryLoader\n",
    "\n",
    "loader = TextLoader(txt_files[0], encoding='utf-8')\n",
    "data = loader.load()\n",
    "len(data)"
   ]
  },
  {
   "cell_type": "code",
   "execution_count": null,
   "id": "d1aae0c1",
   "metadata": {},
   "outputs": [],
   "source": [
    "# data type 확인\n",
    "type(data)"
   ]
  },
  {
   "cell_type": "code",
   "execution_count": null,
   "id": "335a705b",
   "metadata": {},
   "outputs": [],
   "source": [
    "# metadata를 출력\n",
    "print(data[0].metadata)\n",
    "print(\"-\"*200)\n",
    "# page_content를 출력\n",
    "print(data[0].page_content)"
   ]
  },
  {
   "cell_type": "code",
   "execution_count": null,
   "id": "be52443d",
   "metadata": {},
   "outputs": [],
   "source": [
    "# Load all files from a directory\n",
    "from tqdm import tqdm\n",
    "#  텍스트 파일 목록 가져온후, 로더 클래스 적용용\n",
    "data = []\n",
    "for text_file in tqdm(txt_files):\n",
    "    loader = TextLoader(text_file, encoding='utf-8')\n",
    "    data += loader.load()\n",
    "\n",
    "\n",
    "\n",
    "# DirectoryLoader 설정\n",
    "# 특정 디렉토리에서 파일 로드\n",
    "directory_path = \"./data\"  \n",
    "loader = DirectoryLoader(\n",
    "    path=directory_path,  # 대상 디렉토리\n",
    "    glob=\"*KR.txt\",         # 이 패턴과 일치하는 파일만 로드 \n",
    "    loader_cls=TextLoader, # 각 파일을 로드할 때 사용할 로더 클래스\n",
    "    loader_kwargs={'encoding': 'utf-8'}, # TextLoader에 전달할 인자\n",
    "    show_progress=True,   # 진행 상황 표시 (tqdm과 유사)\n",
    "    use_multithreading=True # 멀티스레딩 사용 (파일이 많을 경우 로드 속도 향상)\n",
    ")\n",
    "directory_data = loader.load()"
   ]
  }
 ],
 "metadata": {
  "kernelspec": {
   "display_name": "langchain_env",
   "language": "python",
   "name": "python3"
  },
  "language_info": {
   "codemirror_mode": {
    "name": "ipython",
    "version": 3
   },
   "file_extension": ".py",
   "mimetype": "text/x-python",
   "name": "python",
   "nbconvert_exporter": "python",
   "pygments_lexer": "ipython3",
   "version": "3.11.11"
  }
 },
 "nbformat": 4,
 "nbformat_minor": 5
}
