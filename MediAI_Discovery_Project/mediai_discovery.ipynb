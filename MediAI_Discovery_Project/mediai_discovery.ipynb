{
 "cells": [
  {
   "cell_type": "markdown",
   "id": "9d0524cf",
   "metadata": {},
   "source": [
    "[문서 업로드] → [문서 로딩/분할] → [임베딩/벡터DB 저장] → [검색/질의] → [LLM 요약/분석] → [결과 제공]"
   ]
  },
  {
   "cell_type": "code",
   "execution_count": 24,
   "id": "7be35d62",
   "metadata": {},
   "outputs": [],
   "source": [
    "import os\n",
    "import re\n",
    "from langchain_community.document_loaders import PyPDFLoader\n",
    "from langchain.text_splitter import RecursiveCharacterTextSplitter\n",
    "from langchain_core.documents import Document\n",
    "from typing import List, Dict, Any\n"
   ]
  },
  {
   "cell_type": "code",
   "execution_count": null,
   "id": "7631d4a9",
   "metadata": {},
   "outputs": [],
   "source": [
    "def load_raw_papers_from_pdfs(paper_dir: str) -> List[Document]:\n",
    "    \"\"\"\n",
    "    지정된 디렉토리에서 PDF 파일을 로드하여 원본 Document 객체 리스트를 반환합니다.\n",
    "    각 Document는 PDF의 한 페이지에 해당하며, 원본 텍스트와 메타데이터를 포함합니다.\n",
    "    \"\"\"\n",
    "    pdf_files = [os.path.join(paper_dir, f) for f in os.listdir(paper_dir) if f.endswith('.pdf')]\n",
    "    \n",
    "    all_raw_pages: List[Document] = []\n",
    "    if not pdf_files:\n",
    "        print(f\"No PDF files found in '{paper_dir}'.\")\n",
    "        return all_raw_pages\n",
    "\n",
    "    for pdf_file in pdf_files:\n",
    "        print(f\"Loading (raw): {os.path.basename(pdf_file)}\")\n",
    "        loader = PyPDFLoader(pdf_file)\n",
    "        try:\n",
    "            # load()는 페이지별 Document 객체 리스트를 반환\n",
    "            pages_from_pdf = loader.load()\n",
    "            all_raw_pages.extend(pages_from_pdf)\n",
    "        except Exception as e:\n",
    "            print(f\"Error loading {pdf_file}: {e}\")\n",
    "            continue\n",
    "            \n",
    "    print(f\"\\nTotal raw pages loaded: {len(all_raw_pages)}\")\n",
    "    return all_raw_pages\n",
    "def preprocess_page_content(text: str, source_filename: str = \"\", page_num: int = -1) -> str:\n",
    "    \"\"\"\n",
    "    개별 페이지 내용에서 불필요한 요소를 제거하고 텍스트를 정제합니다.\n",
    "    논문 형식에 맞춰 정규표현식을 정교하게 조정해야 합니다.\n",
    "    \"\"\"\n",
    "    # 이전 답변과 동일한 전처리 로직\n",
    "    text = re.sub(r\"^\\s*The NEW ENGLAND JOURNAL of MEDICINE\\s*\\n\", \"\", text, flags=re.IGNORECASE | re.MULTILINE)\n",
    "    text = re.sub(r\"^\\s*N Engl J Med\\s+\\d{4};\\d+:\\d+-\\d+\\s*\\n\", \"\", text, flags=re.IGNORECASE | re.MULTILINE)\n",
    "    text = re.sub(r\"^\\s*VOL\\.\\s*\\d+\\s*NO\\.\\s*\\d+\\s*\\n\", \"\", text, flags=re.IGNORECASE | re.MULTILINE)\n",
    "    text = re.sub(r\"^\\s*NEJM\\.ORG\\s*JUNE\\s*\\d{1,2},\\s*\\d{4}\\s*\\n\", \"\", text, flags=re.IGNORECASE | re.MULTILINE)\n",
    "    text = re.sub(r\"^\\s*JUNE\\s*\\d{1,2},\\s*\\d{4}\\s*NEJM\\.ORG\\s*\\d{4}\\s*\\n\", \"\", text, flags=re.IGNORECASE | re.MULTILINE)\n",
    "    text = re.sub(r\"^\\s*\\d+\\s*N Engl J Med\\s+.*NEJM.ORG.*\\n\", \"\", text, flags=re.IGNORECASE | re.MULTILINE)\n",
    "    text = re.sub(r\"^\\s*PD-1 BLOCKADE IN MISMATCH-REPAIR DEFICIENCY\\s*\\n\", \"\", text, flags=re.IGNORECASE | re.MULTILINE)\n",
    "    text = re.sub(r\"^\\s*[A-Za-z\\s]+ et al\\.\\s*\\n\", \"\", text, flags=re.MULTILINE)\n",
    "\n",
    "    text = re.sub(r\"^\\s*\\d+\\s*\\n\", \"\", text, flags=re.MULTILINE)\n",
    "    text = re.sub(r\"\\n\\s*\\d+\\s*$\", \"\", text, flags=re.MULTILINE)\n",
    "\n",
    "    text = re.sub(r\"The New England Journal of Medicine is produced by NEJM Group.*\\n\", \"\", text, flags=re.IGNORECASE)\n",
    "    text = re.sub(r\"Downloaded from nejm.org on .*\\. For personal use only\\.\\n\", \"\", text, flags=re.IGNORECASE)\n",
    "    text = re.sub(r\"No other uses without permission\\. Copyright © \\d{4} Massachusetts Medical Society\\. All rights reserved\\.\\n\", \"\", text, flags=re.IGNORECASE)\n",
    "    text = re.sub(r\"Copyright © \\d{4} Massachusetts Medical Society\\.\\n?\", \"\", text, flags=re.IGNORECASE)\n",
    "\n",
    "    text = re.sub(r\"(\\w)-(\\s*)\\n(\\s*)(\\w)\", r\"\\1\\4\", text)\n",
    "    text = re.sub(r\"\\n\\s*\\n\", \"\\n\\n\", text)\n",
    "    text = re.sub(r\" +\", \" \", text)\n",
    "    text = text.strip()\n",
    "    return text\n",
    "\n",
    "\n",
    "def preprocess_loaded_pages(raw_pages: List[Document]) -> List[Document]:\n",
    "    \"\"\"\n",
    "    로드된 원본 Document 객체 리스트를 받아 각 페이지 내용을 전처리합니다.\n",
    "    반환값: 전처리된 Document 객체들의 리스트 (페이지 단위)\n",
    "    \"\"\"\n",
    "    if not raw_pages:\n",
    "        print(\"No raw pages to preprocess.\")\n",
    "        return []\n",
    "\n",
    "    all_processed_pages: List[Document] = []\n",
    "    print(\"\\nPreprocessing loaded pages...\")\n",
    "    for page_doc in raw_pages:\n",
    "        current_metadata: Dict[str, Any] = page_doc.metadata.copy()\n",
    "        source_file = current_metadata.get('source', 'Unknown source')\n",
    "        page_num_raw = current_metadata.get('page', -1) # 0-indexed\n",
    "\n",
    "        processed_content = preprocess_page_content(\n",
    "            page_doc.page_content,\n",
    "            source_file,\n",
    "            page_num_raw\n",
    "        )\n",
    "        \n",
    "        if processed_content.strip():\n",
    "            all_processed_pages.append(Document(page_content=processed_content, metadata=current_metadata))\n",
    "        else:\n",
    "            page_num_display = page_num_raw + 1 if page_num_raw != -1 else \"Unknown\"\n",
    "            print(f\" Page {page_num_display} in {os.path.basename(source_file)} resulted in empty content after preprocessing.\")\n",
    "            \n",
    "    print(f\"Total pages after preprocessing (and potential empty page removal): {len(all_processed_pages)}\")\n",
    "    return all_processed_pages\n",
    "\n",
    "def split_text_documents(documents: List[Document], chunk_size: int = 1500, chunk_overlap: int = 200) -> List[Document]:\n",
    "    \"\"\"\n",
    "    Document 객체 리스트를 받아서 텍스트를 청크 단위로 분할합니다.\n",
    "    반환값: 분할된 Document 객체들의 리스트 (청크 단위)\n",
    "    \"\"\"\n",
    "    if not documents:\n",
    "        print(\"No documents to split.\")\n",
    "        return []\n",
    "\n",
    "    text_splitter = RecursiveCharacterTextSplitter(\n",
    "        chunk_size=chunk_size,\n",
    "        chunk_overlap=chunk_overlap,\n",
    "        separators=[\n",
    "            \"\\n\\n\",  # 1. 문단\n",
    "            \"\\n\",    # 2. 줄바꿈\n",
    "            \". \",    # 3. 문장 (마침표 뒤 공백)\n",
    "            \"? \",    # 4. 문장 (물음표 뒤 공백)\n",
    "            \"! \",    # 5. 문장 (느낌표 뒤 공백)\n",
    "            \"Fig.\",\n",
    "            \"Table \",\n",
    "            \" \",     # 6. 단어\n",
    "            \"\",      # 7. 문자\n",
    "        ],\n",
    "        length_function=len,\n",
    "        is_separator_regex=False,\n",
    "    )\n",
    "\n",
    "    print(f\"\\nSplitting {len(documents)} processed documents into chunks...\")\n",
    "    split_docs = text_splitter.split_documents(documents)\n",
    "    print(f\"Documents split into {len(split_docs)} chunks.\")\n",
    "    return split_docs"
   ]
  },
  {
   "cell_type": "code",
   "execution_count": 26,
   "id": "dd4e307e",
   "metadata": {},
   "outputs": [
    {
     "name": "stdout",
     "output_type": "stream",
     "text": [
      "Loading (raw): Chimeric Antigen Receptor T Cells.pdf\n",
      "Loading (raw): Immuno-oncology upset in bladder cancer.pdf\n",
      "Loading (raw): Osimertinib in Untreated EGFR-Mutated Advanced.pdf\n",
      "Loading (raw): PD-1 Blockade in Tumors.pdf\n",
      "\n",
      "Total raw pages loaded: 37\n"
     ]
    }
   ],
   "source": [
    "paper_directory = \"../paper\"  \n",
    "\n",
    "# 디렉토리 존재 확인\n",
    "if not os.path.exists(paper_directory):\n",
    "    os.makedirs(paper_directory)\n",
    "    print(f\"Directory '{paper_directory}' was created. Please add PDF files to test.\")\n",
    "\n",
    "# 1. PDF에서 원본 페이지 로드\n",
    "raw_document_pages = load_raw_papers_from_pdfs(paper_directory)"
   ]
  },
  {
   "cell_type": "code",
   "execution_count": 27,
   "id": "dc575549",
   "metadata": {},
   "outputs": [
    {
     "name": "stdout",
     "output_type": "stream",
     "text": [
      "\n",
      "Preprocessing loaded pages...\n",
      "Total pages after preprocessing (and potential empty page removal): 37\n"
     ]
    }
   ],
   "source": [
    "# 2. 로드된 페이지들 전처리\n",
    "processed_document_pages = preprocess_loaded_pages(raw_document_pages)"
   ]
  },
  {
   "cell_type": "code",
   "execution_count": 29,
   "id": "6d869bc3",
   "metadata": {},
   "outputs": [
    {
     "name": "stdout",
     "output_type": "stream",
     "text": [
      "\n",
      "Splitting 37 processed documents into chunks...\n",
      "Documents split into 199 chunks.\n"
     ]
    }
   ],
   "source": [
    "# 3. 전처리된 페이지들을 청크로 분할\n",
    "split_chunks = split_text_documents(processed_document_pages, chunk_size=1000, chunk_overlap=100)"
   ]
  },
  {
   "cell_type": "code",
   "execution_count": null,
   "id": "7d8d9893",
   "metadata": {},
   "outputs": [],
   "source": []
  },
  {
   "cell_type": "code",
   "execution_count": 30,
   "id": "c02c0a16",
   "metadata": {},
   "outputs": [
    {
     "name": "stdout",
     "output_type": "stream",
     "text": [
      "\n",
      "--- 최종 분할 결과 요약 ---\n",
      "총 분할된 청크 개수: 199\n",
      "------------------------------\n",
      "청크 1 메타데이터: {'producer': 'Adobe PDF Library 10.0.1; modified using iText 4.2.0 by 1T3XT', 'creator': 'Adobe InDesign CS6 (Macintosh)', 'creationdate': '2016-02-18T15:38:50-05:00', 'moddate': '2025-05-28T04:37:59-07:00', 'trapped': '/False', 'subject': 'N Engl J Med 2014.371:1507-1517', 'title': 'Chimeric Antigen Receptor T Cells for Sustained Remissions in Leukemia', 'source': '../paper\\\\Chimeric Antigen Receptor T Cells.pdf', 'total_pages': 11, 'page': 0, 'page_label': '1507'}\n",
      "청크 1 미리보기 (첫 300자):\n",
      "The new england journal of medicine\n",
      "n engl j med 371;16 nejm.org October 16, 2014 1507\n",
      "From the Division of Oncology, Chil -\n",
      "dren’s Hospital of Philadelphia (S.L.M., \n",
      "R.A., D.M.B., N.J.B., S.R.R., D.T.T., S.A.G.), \n",
      "the Departments of Pediatrics (S.L.M., \n",
      "R.A., D.M.B., N.J.B., S.R.R., D.T.T., S.A.G.)...\n",
      "\n",
      "------------------------------\n",
      "청크 2 메타데이터: {'producer': 'Adobe PDF Library 10.0.1; modified using iText 4.2.0 by 1T3XT', 'creator': 'Adobe InDesign CS6 (Macintosh)', 'creationdate': '2016-02-18T15:38:50-05:00', 'moddate': '2025-05-28T04:37:59-07:00', 'trapped': '/False', 'subject': 'N Engl J Med 2014.371:1507-1517', 'title': 'Chimeric Antigen Receptor T Cells for Sustained Remissions in Leukemia', 'source': '../paper\\\\Chimeric Antigen Receptor T Cells.pdf', 'total_pages': 11, 'page': 0, 'page_label': '1507'}\n",
      "청크 2 미리보기 (첫 300자):\n",
      "Civic Center Blvd., Philadelphia, PA 19104, \n",
      "or at grupp@ email . chop . edu.\n",
      "Drs. Maude and Frey contributed equally \n",
      "to this article.\n",
      "This article was updated on February 18, \n",
      "2016, at NEJM.org.\n",
      "N Engl J Med 2014;371:1507-17.\n",
      "DOI: 10.1056/NEJMoa1407222\n",
      "BACKGROUND\n",
      "Relapsed acute lymphoblastic leuke...\n",
      "\n",
      "------------------------------\n",
      "마지막 청크 메타데이터: {'producer': 'Adobe PDF Library 10.0.1; modified using iText 4.2.0 by 1T3XT', 'creator': 'Adobe InDesign CS6 (Macintosh)', 'creationdate': '2015-06-11T16:54:28-04:00', 'moddate': '2025-05-28T04:38:15-07:00', 'trapped': '/False', 'subject': 'N Engl J Med 2015.372:2509-2520', 'title': 'PD-1 Blockade in Tumors with Mismatch-Repair Deficiency', 'source': '../paper\\\\PD-1 Blockade in Tumors.pdf', 'total_pages': 12, 'page': 11, 'page_label': '2520'}\n",
      "마지막 청크 미리보기 (첫 300자):\n",
      "515: 572-6.\n",
      "Downloaded from nejm.org on May 28, 2025. For personal use only. \n",
      " No other uses without permission. All rights reserved....\n",
      "\n",
      "------------------------------\n"
     ]
    }
   ],
   "source": [
    "print(f\"\\n--- 최종 분할 결과 요약 ---\")\n",
    "print(f\"총 분할된 청크 개수: {len(split_chunks)}\")\n",
    "print(\"-\" * 30)\n",
    "\n",
    "# 처음 2개 청크 미리보기\n",
    "for i, doc_chunk in enumerate(split_chunks[:2]):\n",
    "    print(f\"청크 {i+1} 메타데이터: {doc_chunk.metadata}\")\n",
    "    print(f\"청크 {i+1} 미리보기 (첫 300자):\\n{doc_chunk.page_content[:300]}...\\n\")\n",
    "    print(\"-\" * 30)\n",
    "\n",
    "# 마지막 청크 미리보기 (존재한다면)\n",
    "if len(split_chunks) > 2:\n",
    "    print(f\"마지막 청크 메타데이터: {split_chunks[-1].metadata}\")\n",
    "    print(f\"마지막 청크 미리보기 (첫 300자):\\n{split_chunks[-1].page_content[:300]}...\\n\")\n",
    "    print(\"-\" * 30)\n"
   ]
  },
  {
   "cell_type": "code",
   "execution_count": null,
   "id": "001fcecb",
   "metadata": {},
   "outputs": [],
   "source": []
  }
 ],
 "metadata": {
  "kernelspec": {
   "display_name": "langchain_env",
   "language": "python",
   "name": "python3"
  },
  "language_info": {
   "codemirror_mode": {
    "name": "ipython",
    "version": 3
   },
   "file_extension": ".py",
   "mimetype": "text/x-python",
   "name": "python",
   "nbconvert_exporter": "python",
   "pygments_lexer": "ipython3",
   "version": "3.11.11"
  }
 },
 "nbformat": 4,
 "nbformat_minor": 5
}
